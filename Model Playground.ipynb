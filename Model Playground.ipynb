{
 "cells": [
  {
   "cell_type": "markdown",
   "metadata": {},
   "source": [
    "# Model Playground\n",
    "Based on Bellotti et al.'s \"Adaptive Experience Engine for Serious Games\""
   ]
  },
  {
   "cell_type": "markdown",
   "metadata": {},
   "source": [
    "Note: In the models below, there is a difference between calling \"make\" and \"set\" for an instance.\n",
    "* calling the \"make\" function will create an instance attribute from scratch everytime\n",
    "* calling the \"set\" function will _modify_ an existing attribute everytime"
   ]
  },
  {
   "cell_type": "markdown",
   "metadata": {},
   "source": [
    "## Imports"
   ]
  },
  {
   "cell_type": "code",
   "execution_count": 1,
   "metadata": {},
   "outputs": [],
   "source": [
    "import matplotlib.pyplot as plt\n",
    "import numpy as np"
   ]
  },
  {
   "cell_type": "markdown",
   "metadata": {},
   "source": [
    "## Helper Functions"
   ]
  },
  {
   "cell_type": "code",
   "execution_count": 2,
   "metadata": {},
   "outputs": [],
   "source": [
    "def sigmoid(x):\n",
    "    return 1/(1+np.exp(-x))"
   ]
  },
  {
   "cell_type": "code",
   "execution_count": 3,
   "metadata": {},
   "outputs": [
    {
     "data": {
      "image/png": "[encoded data removed]",
      "text/plain": [
       "<matplotlib.figure.Figure at 0x10ae3d630>"
      ]
     },
     "metadata": {},
     "output_type": "display_data"
    }
   ],
   "source": [
    "# plot of the original sigmoid function\n",
    "x = np.arange(-10,10,0.1)\n",
    "y = sigmoid(x)\n",
    "plt.plot(x,y)\n",
    "plt.show()"
   ]
  },
  {
   "cell_type": "code",
   "execution_count": 4,
   "metadata": {},
   "outputs": [
    {
     "data": {
      "image/png": "[encoded data removed]",
      "text/plain": [
       "<matplotlib.figure.Figure at 0x10ae3d2e8>"
      ]
     },
     "metadata": {},
     "output_type": "display_data"
    }
   ],
   "source": [
    "# plot of the transformed sigmoid function\n",
    "# that will be used for the Task model's skill benefit curve\n",
    "x = np.arange(0,10,0.1)\n",
    "y = sigmoid(-(x-5))\n",
    "plt.plot(x,y)\n",
    "plt.show()"
   ]
  },
  {
   "cell_type": "markdown",
   "metadata": {},
   "source": [
    "## Predefined Constants"
   ]
  },
  {
   "cell_type": "code",
   "execution_count": 5,
   "metadata": {},
   "outputs": [],
   "source": [
    "NUM_LEVELS = 10\n",
    "TYPES = set()\n",
    "SKILLS = set()\n",
    "LEARNING_STYLES = set()"
   ]
  },
  {
   "cell_type": "markdown",
   "metadata": {},
   "source": [
    "## Task Model"
   ]
  },
  {
   "cell_type": "code",
   "execution_count": 6,
   "metadata": {},
   "outputs": [],
   "source": [
    "# TODO: print messages\n",
    "# TODO: implement the difficulty adaptation range\n",
    "# Note: I have chosen to omit the \"Place\" parameter because I will not be using it\n",
    "\n",
    "class Task:\n",
    "    def make_types(self, **kwargs):\n",
    "        # key: string (task type)\n",
    "        # value: int/float (numeric extent to which this task covers the associated type)\n",
    "        # all values are normalized to add up to 1\n",
    "        total = sum(kwargs.values())\n",
    "        self.types = dict()\n",
    "        for t in kwargs:\n",
    "            if t in TYPES:\n",
    "                self.types[t] = kwargs[t]/total\n",
    "            else:\n",
    "                print(\"Type {} has not been predefined and therefore has not been added to the task.\"\\\n",
    "                      .format(t))\n",
    "            \n",
    "    def make_val(self, symbol, val, range=5):\n",
    "        # setting values such that they are normalized to 0..1\n",
    "        if symbol == 'E':\n",
    "            self.entertainment_val = val/range\n",
    "        elif symbol == 'Q':\n",
    "            self.quality_val = val/range\n",
    "        elif symbol == 'L':\n",
    "            self.length = val/range\n",
    "        elif symbol == 'IL':\n",
    "            self.interactivity_level = val/range\n",
    "        \n",
    "    def make_skill_relevance(self, **kwargs):\n",
    "        # key: string (skill name)\n",
    "        # value: int/float (numeric extent to which this task covers the associated skill)\n",
    "        # all values are normalized to add up to 1\n",
    "        total = sum(kwargs.values())\n",
    "        self.skill_relevance = dict()\n",
    "        for skill in kwargs:\n",
    "            if skill in SKILLS:\n",
    "                self.skill_relevance[skill] = kwargs[skill]/total\n",
    "            else:\n",
    "                print(\"Skill {} has not been predefined and therefore has not been added to the task.\"\\\n",
    "                      .format(skill))\n",
    "        \n",
    "    def calc_skill_benefits(self, arg):\n",
    "        # for each skill, we calculate skill benefit = sigmoid(-(x-5))\n",
    "        # x is the player's ability level in the skill\n",
    "        # the transformed sigmoid is a 0-1 normalized s-curve in the range of x=0..10\n",
    "        # for now, I will use the same skill benefit function for all skills\n",
    "        \n",
    "        if isinstance(arg, User):  # input is a user\n",
    "            if hasattr(self, 'skill_relevance'):\n",
    "                skill_benefits = dict()\n",
    "                for skill in self.skill_relevance:\n",
    "                    x = arg.skill_levels[skill]  # user's skill level is in range 0..1\n",
    "                    x = x*10  # scale the skill level to 0..10\n",
    "                    skill_benefits[skill] = sigmoid(-(x-5))\n",
    "                return skill_benefits\n",
    "            else:\n",
    "                print(\"Could not calculate skill benefits because make_skill_relevance has not been called.\")\n",
    "            \n",
    "        elif isinstance(arg, (float,int)):\n",
    "            # input is a numeric skill level for one skill\n",
    "            x = arg*(10/NUM_LEVELS)  # scale to range 0..10\n",
    "            return sigmoid(-(x-5))\n",
    "    \n",
    "    def calc_difficulty(self):\n",
    "        # estimate the difficulty of this task instance\n",
    "        # as a function of skill benefits, which are weighted by the corresponding skill relevance\n",
    "        if hasattr(self, 'skill_relevance'):\n",
    "            sum_outer = 0\n",
    "            for skill in self.skill_relevance:\n",
    "                sum_inner = 0\n",
    "                for j in range(NUM_LEVELS):\n",
    "                    sum_inner += j*self.calc_skill_benefits(j)\n",
    "                sum_outer += self.skill_relevance[skill]*sum_inner\n",
    "            return sum_outer\n",
    "        else:\n",
    "            print(\"Could not calculate difficulty because make_skill_relevance has not been called.\")\n",
    "            \n",
    "    # TODO: difficulty adaptation range\n",
    "        \n",
    "    def make_learning_styles(self, **kwargs):\n",
    "        # key: string (learning style)\n",
    "        # value: int/float (numeric extent to which this task covers the associated style)\n",
    "        # all values are normalized to add up to 1\n",
    "        total = sum(kwargs.values())\n",
    "        self.learning_styles = dict()\n",
    "        for style in kwargs:\n",
    "            if style in LEARNING_STYLES:\n",
    "                self.learning_styles[style] = kwargs[style]/total\n",
    "            else:\n",
    "                print(\"Learning style {} has not been predefined and therefore has not been added to the task.\"\\\n",
    "                      .format(style))\n",
    "        \n",
    "    def make_dependencies(self, **args):\n",
    "        self.dependencies = set()\n",
    "        for task in args:  # the current Task instance depends on these other Task instances\n",
    "            self.dependencies.add(task)"
   ]
  },
  {
   "cell_type": "markdown",
   "metadata": {},
   "source": [
    "## User Model"
   ]
  },
  {
   "cell_type": "code",
   "execution_count": 8,
   "metadata": {},
   "outputs": [],
   "source": [
    "# Note: I have chosen to omit the \"Navigation Ability Level\" parameter because I will not be using it\n",
    "# \"Navigation Ability Level\" is associated with the Task model's \"Place\" parameter,\n",
    "# which I will also not be using\n",
    "\n",
    "class User:\n",
    "    def __init__(self):\n",
    "        self.skill_levels = {skill:0 for skill in SKILLS}\n",
    "        \n",
    "        self.type_pref_unscaled = {t:0 for t in TASK_TYPES}\n",
    "        self.type_pref_scaled = {t:0 for t in TASK_TYPES}\n",
    "        \n",
    "        self.skill_pref_unscaled = {s:0 for s in SKILLS}\n",
    "        self.skill_pref_scaled = {s:0 for s in SKILLS}\n",
    "        \n",
    "        self.learning_style_pref_unscaled = {ls:0 for ls in LEARNING_STYLES}\n",
    "        self.learning_style_pref_scaled = {ls:0 for ls in LEARNING_STYLES}\n",
    "        \n",
    "    def set_skill_level(self, skill, level):\n",
    "        if skill in SKILLS:\n",
    "            self.skill_levels[skill] = level/NUM_LEVELS  # normalize to range 0..1\n",
    "        else:\n",
    "            print(\"Skill {} has not been predefined and therefore will not be included in the user's skill levels.\"\\\n",
    "                      .format(skill))\n",
    "            \n",
    "    def set_type_pref(self, **kwargs):\n",
    "        # key: string (task type)\n",
    "        # value: int/float (numeric preference for the associated type)\n",
    "        for t in kwargs:\n",
    "            if t in TYPES:\n",
    "                self.type_pref_unscaled[t] = kwargs[t]\n",
    "            else:\n",
    "                print(\"Type {} has not been predefined and therefore will not be included in the user's preferences.\"\\\n",
    "                      .format(t))\n",
    "        \n",
    "        # all values in type_pref_unscaled are normalized/scaled to add up to 1\n",
    "        total = sum(self.types_pref_unscaled.values())\n",
    "        for t in self.types_pref_unscaled:\n",
    "            self.type_pref_scaled[t] = self.type_pref_unscaled[t]/total\n",
    "                \n",
    "    def set_skill_pref(self, **kwargs):\n",
    "        # key: string (skill)\n",
    "        # value: int/float (numeric preference for the associated skill)\n",
    "        for skill in kwargs:\n",
    "            if t in SKILLS:\n",
    "                self.skill_pref_unscaled[skill] = kwargs[skill]\n",
    "            else:\n",
    "                print(\"Skill {} has not been predefined and therefore will not be included in the user's preferences.\"\\\n",
    "                      .format(skill))\n",
    "        \n",
    "        # all values in skill_pref_unscaled are normalized/scaled to add up to 1\n",
    "        total = sum(self.skill_pref_unscaled.values())\n",
    "        for t in self.skill_pref_unscaled:\n",
    "            self.skill_pref_scaled[skill] = self.skill_pref_unscaled[skill]/total\n",
    "            \n",
    "    def set_learning_style_pref(self, **kwargs):\n",
    "        # key: string (skill)\n",
    "        # value: int/float (numeric preference for the associated learning style)\n",
    "        for style in kwargs:\n",
    "            if style in LEARNING_STYLES:\n",
    "                self.learning_style_pref_unscaled[style] = kwargs[style]\n",
    "            else:\n",
    "                print(\"Learning style {} has not been predefined and therefore will not be included in the user's preferences.\"\\\n",
    "                      .format(style))\n",
    "        \n",
    "        # all values in learning_style_pref_unscaled are normalized/scaled to add up to 1\n",
    "        total = sum(self.learning_style_pref_unscaled.values())\n",
    "        for style in self.learning_style_pref_unscaled:\n",
    "            self.learning_style_pref_scaled[style] = self.learning_style_pref_unscaled[style]/total\n",
    "                \n",
    "                "
   ]
  },
  {
   "cell_type": "code",
   "execution_count": 9,
   "metadata": {},
   "outputs": [],
   "source": [
    "# TODO: user-task parameters"
   ]
  }
 ],
 "metadata": {
  "kernelspec": {
   "display_name": "Python 3.6 (ospri)",
   "language": "python",
   "name": "ospri"
  },
  "language_info": {
   "codemirror_mode": {
    "name": "ipython",
    "version": 3
   },
   "file_extension": ".py",
   "mimetype": "text/x-python",
   "name": "python",
   "nbconvert_exporter": "python",
   "pygments_lexer": "ipython3",
   "version": "3.6.4"
  }
 },
 "nbformat": 4,
 "nbformat_minor": 2
}
